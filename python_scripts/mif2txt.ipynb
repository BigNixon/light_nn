{
 "cells": [
  {
   "cell_type": "code",
   "execution_count": 2,
   "metadata": {},
   "outputs": [],
   "source": [
    "def extract_mif_data(mif_file, txt_file):\n",
    "    with open(mif_file, 'r') as mif, open(txt_file, 'w') as txt:\n",
    "        write_flag = False\n",
    "        for line in mif:\n",
    "            if 'END;' in line:\n",
    "                write_flag = False\n",
    "            if write_flag:\n",
    "                # Assuming data values are after a colon\n",
    "                data = line.split(':')[1].strip()\n",
    "                # Remove \";\" and convert to 8-bit binary\n",
    "                data = data.replace(\";\", \"\")\n",
    "                data = format(int(data), '08b')\n",
    "                txt.write(data + '\\n')\n",
    "            if 'BEGIN' in line:\n",
    "                write_flag = True\n",
    "\n",
    "# Use the function\n",
    "extract_mif_data('sigmoid_12_bit.mif', 'sigmoid_12_bit.txt')"
   ]
  }
 ],
 "metadata": {
  "kernelspec": {
   "display_name": ".venv",
   "language": "python",
   "name": "python3"
  },
  "language_info": {
   "codemirror_mode": {
    "name": "ipython",
    "version": 3
   },
   "file_extension": ".py",
   "mimetype": "text/x-python",
   "name": "python",
   "nbconvert_exporter": "python",
   "pygments_lexer": "ipython3",
   "version": "3.11.2"
  }
 },
 "nbformat": 4,
 "nbformat_minor": 2
}
