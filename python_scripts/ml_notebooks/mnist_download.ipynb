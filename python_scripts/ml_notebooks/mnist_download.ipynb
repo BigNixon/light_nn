{
 "cells": [
  {
   "cell_type": "code",
   "execution_count": null,
   "metadata": {},
   "outputs": [],
   "source": [
    "import tensorflow as tf\n",
    "from matplotlib import pyplot as plt"
   ]
  },
  {
   "cell_type": "code",
   "execution_count": 3,
   "metadata": {},
   "outputs": [
    {
     "data": {
      "image/png": "[encoded data removed]",
      "text/plain": [
       "<Figure size 640x480 with 1 Axes>"
      ]
     },
     "metadata": {},
     "output_type": "display_data"
    }
   ],
   "source": [
    "\n",
    "# Load the MNIST dataset\n",
    "(x_train, y_train), _ = tf.keras.datasets.mnist.load_data()\n",
    "\n",
    "# Initialize an array to keep track of which labels have been saved\n",
    "saved_labels = [False]*10\n",
    "\n",
    "# Iterate over the training set\n",
    "for image, label in zip(x_train, y_train):\n",
    "    # If the current label has not been saved yet\n",
    "    if not saved_labels[label]:\n",
    "        # Save the image as a PNG file\n",
    "        plt.imshow(image, cmap='gray')\n",
    "        plt.axis('off')\n",
    "        plt.savefig(f\"label_{label}.png\")\n",
    "        # Mark the current label as saved\n",
    "        saved_labels[label] = True\n",
    "    # If all labels have been saved, break the loop\n",
    "    if all(saved_labels):\n",
    "        break"
   ]
  },
  {
   "cell_type": "code",
   "execution_count": 4,
   "metadata": {},
   "outputs": [],
   "source": [
    "# Load the MNIST dataset\n",
    "(x_train, y_train), _ = tf.keras.datasets.mnist.load_data()\n",
    "\n",
    "# Initialize an array to keep track of which labels have been saved\n",
    "saved_labels = [False]*10\n",
    "\n",
    "# Iterate over the training set\n",
    "for image, label in zip(x_train, y_train):\n",
    "    # If the current label has not been saved yet\n",
    "    if not saved_labels[label]:\n",
    "        # Open a text file for the current label\n",
    "        with open(f\"label_{label}.txt\", \"w\") as f:\n",
    "            # Iterate over the rows of the image\n",
    "            for row in image:\n",
    "                # Convert each pixel to an 8-bit binary number and write it to the file\n",
    "                f.write(''.join(f\"{pixel:08b}\" for pixel in row) + \"\\n\")\n",
    "        # Mark the current label as saved\n",
    "        saved_labels[label] = True\n",
    "    # If all labels have been saved, break the loop\n",
    "    if all(saved_labels):\n",
    "        break"
   ]
  },
  {
   "cell_type": "code",
   "execution_count": 15,
   "metadata": {},
   "outputs": [],
   "source": [
    "import binascii\n",
    "label_num = 9\n",
    "\n",
    "with open(f\"./label_{label_num}.txt\", 'r') as f_in, open(f\"./label_{label_num}_hex.txt\", 'w') as f_out:\n",
    "    for line in f_in:\n",
    "        binary = line.strip()\n",
    "        hex_value = binascii.hexlify(int(binary, 2).to_bytes((len(binary) + 7) // 8, 'big')).decode()\n",
    "        f_out.write(hex_value + '\\n')"
   ]
  }
 ],
 "metadata": {
  "kernelspec": {
   "display_name": ".venv",
   "language": "python",
   "name": "python3"
  },
  "language_info": {
   "codemirror_mode": {
    "name": "ipython",
    "version": 3
   },
   "file_extension": ".py",
   "mimetype": "text/x-python",
   "name": "python",
   "nbconvert_exporter": "python",
   "pygments_lexer": "ipython3",
   "version": "3.11.2"
  }
 },
 "nbformat": 4,
 "nbformat_minor": 2
}
