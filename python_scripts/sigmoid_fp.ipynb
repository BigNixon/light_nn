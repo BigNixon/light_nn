{
 "cells": [
  {
   "cell_type": "code",
   "execution_count": 3,
   "metadata": {},
   "outputs": [],
   "source": [
    "import numpy as np\n",
    "from scipy.special import expit as sigmoid"
   ]
  },
  {
   "cell_type": "code",
   "execution_count": 7,
   "metadata": {},
   "outputs": [],
   "source": [
    "# Create an array of 4096 values centered around zero with a step size of 0.5\n",
    "values = np.linspace(-1024, 1024, 4096)\n",
    "\n",
    "# Compute the sigmoid function for these values\n",
    "sigmoid_values = sigmoid(values)\n",
    "\n",
    "# Open the .mif file\n",
    "with open('sigmoid_values.mif', 'w') as f:\n",
    "    # Write the header\n",
    "    f.write('DEPTH = 4096;\\n')\n",
    "    f.write('WIDTH = 32;\\n')\n",
    "    f.write('ADDRESS_RADIX = DEC;\\n')\n",
    "    f.write('DATA_RADIX = HEX;\\n')\n",
    "    f.write('CONTENT\\n')\n",
    "    f.write('BEGIN\\n')\n",
    "\n",
    "    # Write the data\n",
    "    for i, sigmoid_value in enumerate(sigmoid_values):\n",
    "        # Convert the sigmoid value to a hexadecimal string in IEEE754 format\n",
    "        ieee754 = format(np.int32(np.float32(sigmoid_value).view('int32')), '08x')\n",
    "\n",
    "        # Write the address and data pair\n",
    "        f.write(f'{i} : {ieee754} ;\\n')\n",
    "\n",
    "    # Write the footer\n",
    "    f.write('END;\\n')"
   ]
  }
 ],
 "metadata": {
  "kernelspec": {
   "display_name": ".venv",
   "language": "python",
   "name": "python3"
  },
  "language_info": {
   "codemirror_mode": {
    "name": "ipython",
    "version": 3
   },
   "file_extension": ".py",
   "mimetype": "text/x-python",
   "name": "python",
   "nbconvert_exporter": "python",
   "pygments_lexer": "ipython3",
   "version": "3.11.2"
  }
 },
 "nbformat": 4,
 "nbformat_minor": 2
}
