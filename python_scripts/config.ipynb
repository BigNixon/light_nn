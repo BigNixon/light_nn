{
 "cells": [
  {
   "cell_type": "code",
   "execution_count": 10,
   "metadata": {},
   "outputs": [],
   "source": [
    "# Initialize the matrix with zeros\n",
    "matrix = [[0, 0, 0] for _ in range(785)]\n",
    "structure = [784, 128, 64, 10] \n",
    "\n",
    "# Update the first elements\n",
    "for i in range(1, structure[1]+1):\n",
    "    matrix[i][0] = matrix[i-1][0] + (structure[0] +1)\n",
    "\n",
    "# Update the first elements of the second column\n",
    "matrix[0][1] = 785*128\n",
    "for i in range(1, structure[2]+1):\n",
    "    matrix[i][1] = matrix[i-1][1] + (structure[1] +1)\n",
    "\n",
    "# Update the first elements of the third column\n",
    "matrix[0][2] = 785*128 + 64*129\n",
    "for i in range(1, structure[3]+1):\n",
    "    matrix[i][2] = matrix[i-1][2] + (structure[2] +1)\n",
    "\n",
    "\n",
    "# Convert the matrix to a positions array\n",
    "positions = [\"'{\" + \",\".join(map(str, row)) + \"}\" for row in matrix]\n",
    "\n",
    "# Generate the file content\n",
    "content = \"localparam integer positions[0:784][1:3] = '{\\n\"\n",
    "content += \",\\n\".join(positions)\n",
    "content += \"\\n};\"\n",
    "\n",
    "# Write the content to a .v file\n",
    "with open(\"output.v\", \"w\") as f:\n",
    "    f.write(content)"
   ]
  }
 ],
 "metadata": {
  "kernelspec": {
   "display_name": ".venv",
   "language": "python",
   "name": "python3"
  },
  "language_info": {
   "codemirror_mode": {
    "name": "ipython",
    "version": 3
   },
   "file_extension": ".py",
   "mimetype": "text/x-python",
   "name": "python",
   "nbconvert_exporter": "python",
   "pygments_lexer": "ipython3",
   "version": "3.11.2"
  }
 },
 "nbformat": 4,
 "nbformat_minor": 2
}
