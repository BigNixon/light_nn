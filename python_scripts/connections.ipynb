{
 "cells": [
  {
   "cell_type": "code",
   "execution_count": 1,
   "metadata": {},
   "outputs": [],
   "source": [
    "def generate_verilog():\n",
    "    verilog_code = \"always @(posedge clk ) begin\\n\"\n",
    "    for row in range(28):\n",
    "        verilog_code += f\"    // row {row+1} of 28 pixels\\n\"\n",
    "        for pixel in range(28):\n",
    "            connection_index = row * 28 + pixel\n",
    "            upper_bit = 223 - pixel * 8\n",
    "            lower_bit = upper_bit - 7\n",
    "            verilog_code += f\"    connection[{connection_index}] <= line_{row}_in[{upper_bit}:{lower_bit}]; // 8 bits\\n\"\n",
    "    verilog_code += \"end\"\n",
    "    return verilog_code\n",
    "\n",
    "# Generate the Verilog code\n",
    "verilog_code = generate_verilog()\n",
    "\n",
    "# Save the Verilog code to a file\n",
    "with open(\"connection.sv\", \"w\") as f:\n",
    "    f.write(verilog_code)"
   ]
  }
 ],
 "metadata": {
  "kernelspec": {
   "display_name": ".venv",
   "language": "python",
   "name": "python3"
  },
  "language_info": {
   "codemirror_mode": {
    "name": "ipython",
    "version": 3
   },
   "file_extension": ".py",
   "mimetype": "text/x-python",
   "name": "python",
   "nbconvert_exporter": "python",
   "pygments_lexer": "ipython3",
   "version": "3.11.2"
  }
 },
 "nbformat": 4,
 "nbformat_minor": 2
}
